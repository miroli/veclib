{
 "cells": [
  {
   "cell_type": "markdown",
   "metadata": {},
   "source": [
    "# VecLib\n",
    "\n",
    "A Python library for playing with and visualizing vectors in Jupyter notebooks. For personal learning purposes."
   ]
  },
  {
   "cell_type": "code",
   "execution_count": 1,
   "metadata": {
    "collapsed": true
   },
   "outputs": [],
   "source": [
    "import numpy as np\n",
    "import matplotlib.pyplot as plt\n",
    "%matplotlib inline\n",
    "plt.style.use('seaborn-whitegrid')"
   ]
  },
  {
   "cell_type": "markdown",
   "metadata": {},
   "source": [
    "Roadmap\n",
    "\n",
    "- <s>Addition and subtraction</s>\n",
    "- <s>Scaling (multiplication)</s>\n",
    "- Visualizing in 2D\n",
    "- Visualizing in 3D\n",
    "- Visualize dot products as projections\n",
    "- Compute determinant\n",
    "- Cross products"
   ]
  },
  {
   "cell_type": "code",
   "execution_count": 54,
   "metadata": {},
   "outputs": [],
   "source": [
    "class Vector():\n",
    "    \"\"\"The base class for all vector operations\"\"\"\n",
    "    \n",
    "    def __init__(self, arr, base=np.array([1, 1])):\n",
    "        self._arr = arr\n",
    "        self.base = base\n",
    "    \n",
    "    def dot(self, other):\n",
    "        return np.dot(self._arr, other._arr)\n",
    "\n",
    "    def cross(self, other):\n",
    "        pass\n",
    "    \n",
    "    def plot(self, ax=None):\n",
    "        dims = len(self._arr)\n",
    "        if dims > 3:\n",
    "            raise Exception('Cannot plot over 3 dimensions')\n",
    "        if not ax:\n",
    "            fig, ax = plt.subplots()\n",
    "        if dims == 1:\n",
    "            self._plot1d(ax)\n",
    "        elif dims == 2:\n",
    "            self._plot2d(ax)\n",
    "        elif dims == 3:\n",
    "            self._plot3d(ax)\n",
    "            \n",
    "    def _plot2d(self, ax):\n",
    "        x, y = self._arr\n",
    "        ax.plot([0, x], [0, y])\n",
    "\n",
    "    def __add__(self, other):\n",
    "        return Vector(self._arr + other._arr)\n",
    "\n",
    "    def __sub__(self, other):\n",
    "        return Vector(self._arr - other._arr)\n",
    "\n",
    "    def __mul__(self, scalar):\n",
    "        return self._arr * scalar"
   ]
  },
  {
   "cell_type": "code",
   "execution_count": 55,
   "metadata": {},
   "outputs": [],
   "source": [
    "v1 = Vector(np.array([1,2]))\n",
    "v2 = Vector(np.array([5,3]))\n",
    "v3 = Vector(np.array([5,3, 4, 4]))"
   ]
  },
  {
   "cell_type": "code",
   "execution_count": 56,
   "metadata": {},
   "outputs": [
    {
     "data": {
      "image/png": "[encoded data removed]",
      "text/plain": [
       "<matplotlib.figure.Figure at 0x11293f710>"
      ]
     },
     "metadata": {},
     "output_type": "display_data"
    }
   ],
   "source": [
    "fig, ax = plt.subplots()\n",
    "v1.plot(ax)\n",
    "v2.plot(ax)\n",
    "v3 = v1 + v2\n",
    "v3.plot(ax)"
   ]
  },
  {
   "cell_type": "code",
   "execution_count": null,
   "metadata": {
    "collapsed": true
   },
   "outputs": [],
   "source": []
  }
 ],
 "metadata": {
  "kernelspec": {
   "display_name": "Python 3",
   "language": "python",
   "name": "python3"
  },
  "language_info": {
   "codemirror_mode": {
    "name": "ipython",
    "version": 3
   },
   "file_extension": ".py",
   "mimetype": "text/x-python",
   "name": "python",
   "nbconvert_exporter": "python",
   "pygments_lexer": "ipython3",
   "version": "3.6.1"
  }
 },
 "nbformat": 4,
 "nbformat_minor": 2
}
